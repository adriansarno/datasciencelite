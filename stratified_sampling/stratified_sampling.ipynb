{
 "cells": [
  {
   "cell_type": "markdown",
   "metadata": {},
   "source": [
    "## Stratified Sampling Example"
   ]
  },
  {
   "cell_type": "code",
   "execution_count": 23,
   "metadata": {},
   "outputs": [],
   "source": [
    "import numpy as np"
   ]
  },
  {
   "cell_type": "code",
   "execution_count": 34,
   "metadata": {},
   "outputs": [
    {
     "name": "stdout",
     "output_type": "stream",
     "text": [
      "Creating an un-balanced dataset: multiples of 111 in first 1000 natural numbers\n",
      "positive class size: 9  (1%)\n",
      "negative class size: 991  (99%)\n"
     ]
    }
   ],
   "source": [
    "print(\"Creating an un-balanced dataset: multiples of 111 in first 1000 natural numbers\")\n",
    "\n",
    "# helper functions\n",
    "is_multiple = lambda n, d: int(n%d == 0)\n",
    "def class_stats(class_name, a):\n",
    "    print(\"{} class size: {}  ({:.0%})\".format(class_name, sum(a), sum(a)/len(a)))\n",
    "    \n",
    "# Generate the dataset\n",
    "X = np.asarray([n for n in range(1, 1001)])\n",
    "y = np.asarray([is_multiple(n, 111) for n in X])\n",
    "\n",
    "# print class size\n",
    "class_stats(\"positive\", y)\n",
    "class_stats(\"negative\", 1 - y)"
   ]
  },
  {
   "cell_type": "code",
   "execution_count": 35,
   "metadata": {},
   "outputs": [],
   "source": [
    "def stratified_sampling(X, y, sample_size):\n",
    "\n",
    "    # count the classes\n",
    "    classes = np.unique(y)\n",
    "\n",
    "    # pick an equal-size sample from each class (strata)\n",
    "    class_sample_size = sample_size//len(classes)\n",
    "    class_samples = []\n",
    "    for c in classes:\n",
    "        idx_class = np.asarray([i for i in range(len(y)) if y[i] == c]) \n",
    "        idx_class_sample = np.random.choice(idx_class, \n",
    "                                            size=class_sample_size, \n",
    "                                            replace=(class_sample_size>len(idx_class)))\n",
    "        class_samples.append(idx_class_sample)\n",
    "    \n",
    "    # mix all strata together\n",
    "    idx_balanced_sample = np.concatenate(class_samples)\n",
    "    np.random.shuffle(idx_balanced_sample)\n",
    "\n",
    "    # return the  sample\n",
    "    return  (X[idx_balanced_sample],  y[idx_balanced_sample])"
   ]
  },
  {
   "cell_type": "code",
   "execution_count": 38,
   "metadata": {},
   "outputs": [
    {
     "name": "stdout",
     "output_type": "stream",
     "text": [
      "Sampling a balanced training set with stratified sampling.\n",
      "positive class size: 5  (50%)\n",
      "negative class size: 5  (50%)\n"
     ]
    }
   ],
   "source": [
    "print(\"Sampling a balanced training set with stratified sampling.\")\n",
    "\n",
    "# get a sample of size 10\n",
    "(X_sample, y_sample) = stratified_sampling(X, y, 10)\n",
    "\n",
    "# print class size\n",
    "class_stats(\"positive\", y_sample)\n",
    "class_stats(\"negative\", 1 - y_sample)"
   ]
  },
  {
   "cell_type": "code",
   "execution_count": 40,
   "metadata": {},
   "outputs": [
    {
     "name": "stdout",
     "output_type": "stream",
     "text": [
      "555 1\n",
      "119 0\n",
      "70 0\n",
      "444 1\n",
      "111 1\n",
      "333 1\n",
      "777 1\n",
      "964 0\n",
      "491 0\n",
      "793 0\n"
     ]
    }
   ],
   "source": [
    "for x_, y_ in zip(X_sample, y_sample):\n",
    "    print(x_, y_)"
   ]
  },
  {
   "cell_type": "code",
   "execution_count": null,
   "metadata": {},
   "outputs": [],
   "source": []
  }
 ],
 "metadata": {
  "kernelspec": {
   "display_name": "Python 3",
   "language": "python",
   "name": "python3"
  },
  "language_info": {
   "codemirror_mode": {
    "name": "ipython",
    "version": 3
   },
   "file_extension": ".py",
   "mimetype": "text/x-python",
   "name": "python",
   "nbconvert_exporter": "python",
   "pygments_lexer": "ipython3",
   "version": "3.6.4"
  }
 },
 "nbformat": 4,
 "nbformat_minor": 2
}
